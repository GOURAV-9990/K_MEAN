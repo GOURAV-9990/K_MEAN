{
 "cells": [
  {
   "cell_type": "markdown",
   "id": "80474478",
   "metadata": {},
   "source": [
    "i am going to type random python code "
   ]
  },
  {
   "cell_type": "code",
   "execution_count": 5,
   "id": "e829d59c",
   "metadata": {},
   "outputs": [
    {
     "name": "stdout",
     "output_type": "stream",
     "text": [
      "hi brro\n"
     ]
    }
   ],
   "source": [
    "print(\"hi brro\")"
   ]
  },
  {
   "cell_type": "code",
   "execution_count": 6,
   "id": "77e40a0b",
   "metadata": {},
   "outputs": [
    {
     "name": "stdout",
     "output_type": "stream",
     "text": [
      "ki khaar\n"
     ]
    }
   ],
   "source": [
    "print(\"ki khaar\")"
   ]
  },
  {
   "cell_type": "code",
   "execution_count": 7,
   "id": "5d237be2",
   "metadata": {},
   "outputs": [
    {
     "name": "stdout",
     "output_type": "stream",
     "text": [
      "sira senehi mor bhaxa janani\n"
     ]
    }
   ],
   "source": [
    "print(\"sira senehi mor bhaxa janani\")"
   ]
  },
  {
   "cell_type": "code",
   "execution_count": null,
   "id": "6837d77d",
   "metadata": {},
   "outputs": [],
   "source": [
    "print(\"buy some snack\")"
   ]
  }
 ],
 "metadata": {
  "kernelspec": {
   "display_name": "base",
   "language": "python",
   "name": "python3"
  },
  "language_info": {
   "codemirror_mode": {
    "name": "ipython",
    "version": 3
   },
   "file_extension": ".py",
   "mimetype": "text/x-python",
   "name": "python",
   "nbconvert_exporter": "python",
   "pygments_lexer": "ipython3",
   "version": "3.12.7"
  }
 },
 "nbformat": 4,
 "nbformat_minor": 5
}
