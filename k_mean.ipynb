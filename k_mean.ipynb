{
 "cells": [
  {
   "cell_type": "code",
   "execution_count": null,
   "id": "2aea52db",
   "metadata": {},
   "outputs": [],
   "source": [
    "#k-mean algorithm \n",
    "import numpy as np\n",
    "import matplotlib.pyplot as plt"
   ]
  },
  {
   "cell_type": "code",
   "execution_count": null,
   "id": "bdef2c02",
   "metadata": {},
   "outputs": [],
   "source": [
    "from sklearn.cluster import KMeans"
   ]
  },
  {
   "cell_type": "code",
   "execution_count": null,
   "id": "9374ee41",
   "metadata": {},
   "outputs": [],
   "source": [
    "#sampple data \n",
    "X = np.array([[1, 2], [1, 4], [1, 0],[4, 2], [10, 12], [5, 6]])"
   ]
  },
  {
   "cell_type": "code",
   "execution_count": null,
   "id": "cecd7bc3",
   "metadata": {},
   "outputs": [],
   "source": [
    "kmeans = KMeans(n_clusters=2, random_state=0)\n",
    "lebels = kmeans.fit_predict(X)\n",
    "centroids = kmeans.cluster_centers_\n",
    "OMP_NUM_THREADS=1\n",
    "\n"
   ]
  },
  {
   "cell_type": "code",
   "execution_count": null,
   "id": "e6b7ceec",
   "metadata": {},
   "outputs": [],
   "source": [
    "plt.scatter(X[:, 0], X[:, 1], c=lebels, s=50, cmap='viridis')  # Plot data points\n",
    "# Plot data points with colors based on cluster labels  \n",
    "plt.scatter(centroids[:, 0], centroids[:, 1], s=200, c='red', marker='x')     # Plot centroids\n",
    "plt.xlabel('X-axis')\n",
    "plt.ylabel('Y-axis')\n",
    "plt.title('K-Means Clustering')\n",
    "plt.show()"
   ]
  },
  {
   "cell_type": "code",
   "execution_count": null,
   "id": "b54cd2e8",
   "metadata": {},
   "outputs": [],
   "source": [
    "print(\"Cluster Centers:\\n\", centroids)\n",
    "print(\"Cluster Labels:\\n\", lebels)\n",
    "print(\"Inertia:\\n\", kmeans.inertia_)\n",
    "print(\"Number of Iterations:\\n\", kmeans.n_iter_)\n",
    "print(\"Converged:\\n\", kmeans.converged_)"
   ]
  }
 ],
 "metadata": {
  "kernelspec": {
   "display_name": "base",
   "language": "python",
   "name": "python3"
  },
  "language_info": {
   "codemirror_mode": {
    "name": "ipython",
    "version": 3
   },
   "file_extension": ".py",
   "mimetype": "text/x-python",
   "name": "python",
   "nbconvert_exporter": "python",
   "pygments_lexer": "ipython3",
   "version": "3.12.7"
  }
 },
 "nbformat": 4,
 "nbformat_minor": 5
}
